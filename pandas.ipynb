{
 "cells": [
  {
   "cell_type": "code",
   "execution_count": 0,
   "metadata": {},
   "outputs": [],
   "source": [
    "# 1. Какое количество мужчин и женщин ехало на корабле? В качестве ответа приведите два числа через пробел. \n",
    "# 2. Какой части пассажиров удалось выжить? Посчитайте долю выживших пассажиров. Ответ приведите в процентах (число в ин- тервале от 0 до 100, знак процента не нужен), округлив до двух знаков. \n",
    "# 3. Какую долю пассажиры первого класса составляли среди всех пассажиров? Ответ приведите в процентах (число в интервале от 0 до 100, знак процента не нужен), округлив до двух знаков. \n",
    "# 4. Какого возраста были пассажиры? Посчитайте среднее и медиану возраста пассажиров. В качестве ответа приведите два числа через пробел. \n",
    "# 5. Коррелируют ли число братьев/сестер с числом родителей детей? Посчитайте корреляцию Пирсона между признаками SibSp и Рarch. \n",
    "# 6. Какое самое популярное женское имя на корабле? Извлеките из полного имени пассажира (колонка Name) eго личное имя (First Name). Это задание ся специалист по анализу данных. Данные очень разнородные и шумные, но из них требуется извлечь необходимую информацию. Попробуйте вручную разобрать несколько значений столбца Name и выработать правило для извлечения имен, а также разделения типичный пример того, с чем сталкиваетих на женские и мужские."
   ]
  },
  {
   "cell_type": "code",
   "execution_count": 0,
   "metadata": {},
   "outputs": [],
   "source": [
    "# Файл test.csv (тестовые данные для проверки точности созданной модели)\n",
    "# PassengerId - Уникальный идентификатор пассажира\n",
    "# PclassКласс- пассажира (1-й, 2-й или 3-й)\n",
    "# имя - имя пассажира\n",
    "# Пол - пол пассажира\n",
    "# Возраст - Возраст пассажира\n",
    "# SibSp - Количество братьев и сестер / супругов на борту Титаника\n",
    "# высушивать - Количество родителей / детей на борту Титаника\n",
    "# Проездной билет -Номер билета\n",
    "# Плата за проезд - Тариф оплачен за билет\n",
    "# Кабина - Номер каюты\n",
    "# путь начинал - Где пассажир попал на корабль (C - Шербур, S - Саутгемптон, Q = Куинстаун)\n",
    "\n",
    "\n",
    "\n",
    "#Файл gender_submission (Пример того, как должен выглядеть файл представления.Эти прогнозы предполагают, что выживают только пассажиры женского пола.)\n",
    "#PassengerId - айди пассажира и Survived - выживший\n",
    "\n",
    "\n",
    "\n",
    "# Файл train.csv (содержит данные)\n",
    "# PassengerId - Уникальный идентификатор пассажира\n",
    "# Survived - Выжил (1) или умер (0)\n",
    "# Pclass - Класс пассажира (1-й, 2-й или 3-й)\n",
    "# Name - Имя пассажира\n",
    "# Sex - Пол пассажира (мужской - male, женский - female)\n",
    "# Age  - Возраст пассажира\n",
    "# SibSp - Количество братьев и сестер / супругов на борту Титаника\n",
    "# Parch - Количество родителей / детей на борту Титаника\n",
    "# Ticket - Номер билета\n",
    "# Fare- Тариф оплачен за билет (плата за проезда)\n",
    "# Cabin - Номер каюты\n",
    "# Embarked - Где пассажир попал на корабль (C - Шербур, S - Саутгемптон, Q = Куинстаун)  (C - Cherbourg, S - Southampton,  = Queenstown)\n",
    "\n",
    "\n"
   ]
  },
  {
   "cell_type": "code",
   "execution_count": 0,
   "metadata": {},
   "outputs": [],
   "source": [
    "# 1. Какое количество мужчин и женщин ехало на корабле? В качестве ответа приведите два числа через пробел. \n",
    "import pandas as pd\n",
    "df = pd.read_csv('titanic.csv', sep=',')\n",
    "#print(df)\n",
    "count_famele_and_male = df['Sex'].value_counts() # Выбор столбца. value_counts() - функцию, которая надодит количество всех уникальных значений в столбце, вернёт объект Sries \n",
    "#print(count_famele_and_male,type(count_famele_and_male))\n",
    "print(count_famele_and_male.loc['female'], \" \",count_famele_and_male.loc['male'])# lok в Series это выбор \"по метке\""
   ]
  },
  {
   "cell_type": "code",
   "execution_count": 0,
   "metadata": {},
   "outputs": [],
   "source": [
    "# 2. Какой части пассажиров удалось выжить? Посчитайте долю выживших пассажиров. Ответ приведите в процентах (число в интервале от 0 до 100, знак процента не нужен), округлив до двух знаков. \n",
    "survived = (df['Survived'].value_counts()).loc[1] #Выбор столбца return Series, value_counts() вернет Series, Обращаемся по метке (строки) 1\n",
    "print(\"Количество выживших пассажиров: \",(survived/(df.shape[0]))*100)"
   ]
  },
  {
   "cell_type": "code",
   "execution_count": 0,
   "metadata": {},
   "outputs": [],
   "source": [
    "# 3. Какую долю пассажиры первого класса составляли среди всех пассажиров? Ответ приведите в процентах (число в интервале от 0 до 100, знак процента не нужен), округлив до двух знаков. \n",
    "count_pas = df.shape[0] #Количество пассажиров (равно числу строк)\n",
    "first_class_passengers =  (df['Pclass'].value_counts())\n",
    "temp = (round((first_class_passengers.loc[1] / count_pas),2))*100\n",
    "print(\"Доля пассажиры первого класса составляли среди всех пассажиров:\",temp)"
   ]
  },
  {
   "cell_type": "code",
   "execution_count": 0,
   "metadata": {},
   "outputs": [],
   "source": [
    "# 4. Какого возраста были пассажиры? Посчитайте среднее и медиану возраста пассажиров. В качестве ответа приведите два числа через пробел. \n",
    "mean_age =  df['Age'].mean()\n",
    "median_age = df['Age'].median() #то число которое будет ровно по середине массива, если его отвортировать\n",
    "print(4,\"Среднее и медиану возраста пассажиров:\",mean_age,median_age)"
   ]
  },
  {
   "cell_type": "code",
   "execution_count": 0,
   "metadata": {},
   "outputs": [],
   "source": [
    "# 5. Коррелируют ли число братьев/сестер с числом родителей детей? Посчитайте корреляцию Пирсона между признаками SibSp и Рarch.\n",
    "# Определить силу линейной зависимости между величинами (между двамя столбцами)\n",
    "tempSibSp = df['SibSp']\n",
    "tempРarch = df['Parch']\n",
    "corrPearson = tempSibSp.corr(tempРarch,method = 'pearson') #= df.corrwith(tempSibSp,1,method = 'Pearson')\n",
    "#print(tempSibSp)\n",
    "#print(tempРarch)\n",
    "print(\"Корреляция:\", corrPearson)"
   ]
  },
  {
   "cell_type": "code",
   "execution_count": 0,
   "metadata": {},
   "outputs": [],
   "source": [
    "# 6. Какое самое популярное женское имя на корабле? Извлеките из полного имени пассажира (колонка Name) eго личное имя (First Name). Это задание типичный пример того с чем стралкивается специалист по анализу данных. Данные очень разнородные и шумные, но из них требуется извлечь необходимую информацию. Попробуйте вручную разобрать несколько значений столбца Name и выработать правило для извлечения имен, а также разделения их на женские и мужские.\n",
    "tempDF = df[df['Sex'] == 'female']\n",
    "\n",
    "list = []\n",
    "#Операция: выбор строки по индексу. df.iloc[1] - Series\n",
    "for i in range(tempDF.shape[0]):\n",
    "    list.append((tempDF.iloc[i]).loc['Name'])#достаём строку DF i, она явл Serial, в Serial достаём значение по метке \"Name\"\n",
    "    \n",
    "ind = 0\n",
    "MrlistMrs = [\"Mrs.\",\"Miss.\",\"Ms.\",\"Mlle.\",\"Mme.\",\"Countess.\",\"Dr.\",\"Lady.\"] # последние 3: графиня, доктор, леди \n",
    "listFirstName = []\n",
    "for l in range(len(list)):\n",
    "    ind = 0\n",
    "    listTmp = list[l].split(\" \")\n",
    "    for m in MrlistMrs:\n",
    "        if m in listTmp:\n",
    "            ind = listTmp.index(m)\n",
    "            break\n",
    "    if(listTmp[ind]==\"Miss.\" or listTmp[ind]==\"Ms.\" or listTmp[ind]==\"Mlle.\" or listTmp[ind]==\"Dr.\" or listTmp[ind]==\"Lady.\" ):#Dr. - доктор\n",
    "        listFirstName.append(listTmp[ind +1])\n",
    "    elif listTmp[ind]==\"Mrs.\" or listTmp[ind]==\"Mme.\" : #у замужних жанщин может писаться перед их именем имя мужа, а может и не писаться\n",
    "        for j in range(len(listTmp)):\n",
    "            if(listTmp[j].startswith(\"(\")):\n",
    "                listFirstName.append(listTmp[j].strip('\\(,\\)'))\n",
    "                break\n",
    "        else: listFirstName.append(listTmp[ind +1])#Выполняется если выход из цикла производится не инструкцией break\n",
    "    elif listTmp[ind]==\"Countess.\": #Пишется как Countess. of \n",
    "        listFirstName.append(listTmp[ind+2].strip('\\(,\\)'))\n",
    "\n",
    "for str_ind in range(len(listFirstName)):\n",
    "    listFirstName[str_ind] = listFirstName[str_ind].strip('\\(,\\)')\n",
    "\n",
    "sResult = pd.Series(listFirstName)\n",
    "print(sResult.value_counts())\n",
    "print(sResult.value_counts().sum())"
   ]
  }
 ],
 "metadata": {
  "kernelspec": {
   "display_name": "Python 3",
   "language": "python",
   "name": "python3"
  },
  "language_info": {
   "codemirror_mode": {
    "name": "ipython",
    "version": 3
   },
   "file_extension": ".py",
   "mimetype": "text/x-python",
   "name": "python",
   "nbconvert_exporter": "python",
   "pygments_lexer": "ipython3",
   "version": "3.7.5"
  }
 },
 "nbformat": 4,
 "nbformat_minor": 2
}